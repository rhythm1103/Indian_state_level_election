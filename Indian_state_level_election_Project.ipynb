{
 "cells": [
  {
   "cell_type": "code",
   "execution_count": 1,
   "id": "497cac22-2598-4cd0-829e-4184348380be",
   "metadata": {},
   "outputs": [],
   "source": [
    "import pandas as pd"
   ]
  },
  {
   "cell_type": "code",
   "execution_count": 3,
   "id": "35a11474-a499-47ae-a75e-3940c10d2a70",
   "metadata": {},
   "outputs": [
    {
     "data": {
      "text/html": [
       "<div>\n",
       "<style scoped>\n",
       "    .dataframe tbody tr th:only-of-type {\n",
       "        vertical-align: middle;\n",
       "    }\n",
       "\n",
       "    .dataframe tbody tr th {\n",
       "        vertical-align: top;\n",
       "    }\n",
       "\n",
       "    .dataframe thead th {\n",
       "        text-align: right;\n",
       "    }\n",
       "</style>\n",
       "<table border=\"1\" class=\"dataframe\">\n",
       "  <thead>\n",
       "    <tr style=\"text-align: right;\">\n",
       "      <th></th>\n",
       "      <th>st_name</th>\n",
       "      <th>year</th>\n",
       "      <th>ac_no</th>\n",
       "      <th>ac_name</th>\n",
       "      <th>ac_type</th>\n",
       "      <th>cand_name</th>\n",
       "      <th>cand_sex</th>\n",
       "      <th>partyname</th>\n",
       "      <th>partyabbre</th>\n",
       "      <th>totvotpoll</th>\n",
       "      <th>electors</th>\n",
       "    </tr>\n",
       "  </thead>\n",
       "  <tbody>\n",
       "    <tr>\n",
       "      <th>0</th>\n",
       "      <td>Andhra Pradesh</td>\n",
       "      <td>1978.0</td>\n",
       "      <td>1</td>\n",
       "      <td>Ichapuram</td>\n",
       "      <td>GEN</td>\n",
       "      <td>Manabala Ramarao</td>\n",
       "      <td>M</td>\n",
       "      <td>Independent</td>\n",
       "      <td>IND</td>\n",
       "      <td>813.0</td>\n",
       "      <td>83247</td>\n",
       "    </tr>\n",
       "    <tr>\n",
       "      <th>1</th>\n",
       "      <td>Andhra Pradesh</td>\n",
       "      <td>1978.0</td>\n",
       "      <td>1</td>\n",
       "      <td>Ichapuram</td>\n",
       "      <td>GEN</td>\n",
       "      <td>Appadu Sahu</td>\n",
       "      <td>M</td>\n",
       "      <td>Independent</td>\n",
       "      <td>IND</td>\n",
       "      <td>1743.0</td>\n",
       "      <td>83247</td>\n",
       "    </tr>\n",
       "    <tr>\n",
       "      <th>2</th>\n",
       "      <td>Andhra Pradesh</td>\n",
       "      <td>1978.0</td>\n",
       "      <td>1</td>\n",
       "      <td>Ichapuram</td>\n",
       "      <td>GEN</td>\n",
       "      <td>Uppada Rangababu</td>\n",
       "      <td>M</td>\n",
       "      <td>Indian National Congress</td>\n",
       "      <td>INC</td>\n",
       "      <td>4427.0</td>\n",
       "      <td>83247</td>\n",
       "    </tr>\n",
       "    <tr>\n",
       "      <th>3</th>\n",
       "      <td>Andhra Pradesh</td>\n",
       "      <td>1978.0</td>\n",
       "      <td>1</td>\n",
       "      <td>Ichapuram</td>\n",
       "      <td>GEN</td>\n",
       "      <td>Kalla Balarama Swamy</td>\n",
       "      <td>M</td>\n",
       "      <td>Indian National Congress (I)</td>\n",
       "      <td>INC(I)</td>\n",
       "      <td>19805.0</td>\n",
       "      <td>83247</td>\n",
       "    </tr>\n",
       "    <tr>\n",
       "      <th>4</th>\n",
       "      <td>Andhra Pradesh</td>\n",
       "      <td>1978.0</td>\n",
       "      <td>1</td>\n",
       "      <td>Ichapuram</td>\n",
       "      <td>GEN</td>\n",
       "      <td>Bendalam Venkatesam Sarma</td>\n",
       "      <td>M</td>\n",
       "      <td>Janata Party</td>\n",
       "      <td>JNP</td>\n",
       "      <td>34251.0</td>\n",
       "      <td>83247</td>\n",
       "    </tr>\n",
       "    <tr>\n",
       "      <th>...</th>\n",
       "      <td>...</td>\n",
       "      <td>...</td>\n",
       "      <td>...</td>\n",
       "      <td>...</td>\n",
       "      <td>...</td>\n",
       "      <td>...</td>\n",
       "      <td>...</td>\n",
       "      <td>...</td>\n",
       "      <td>...</td>\n",
       "      <td>...</td>\n",
       "      <td>...</td>\n",
       "    </tr>\n",
       "    <tr>\n",
       "      <th>327289</th>\n",
       "      <td>West Bengal</td>\n",
       "      <td>2011.0</td>\n",
       "      <td>294</td>\n",
       "      <td>Murarai</td>\n",
       "      <td>GEN</td>\n",
       "      <td>Ajrail Md</td>\n",
       "      <td>M</td>\n",
       "      <td>IND</td>\n",
       "      <td>IND</td>\n",
       "      <td>2471.0</td>\n",
       "      <td>189320</td>\n",
       "    </tr>\n",
       "    <tr>\n",
       "      <th>327290</th>\n",
       "      <td>West Bengal</td>\n",
       "      <td>2011.0</td>\n",
       "      <td>294</td>\n",
       "      <td>Murarai</td>\n",
       "      <td>GEN</td>\n",
       "      <td>Shiblal Sardar</td>\n",
       "      <td>M</td>\n",
       "      <td>BSP</td>\n",
       "      <td>BSP</td>\n",
       "      <td>3074.0</td>\n",
       "      <td>189320</td>\n",
       "    </tr>\n",
       "    <tr>\n",
       "      <th>327291</th>\n",
       "      <td>West Bengal</td>\n",
       "      <td>2011.0</td>\n",
       "      <td>294</td>\n",
       "      <td>Murarai</td>\n",
       "      <td>GEN</td>\n",
       "      <td>Sudhiranjan Das Goswami</td>\n",
       "      <td>M</td>\n",
       "      <td>BJP</td>\n",
       "      <td>BJP</td>\n",
       "      <td>4961.0</td>\n",
       "      <td>189320</td>\n",
       "    </tr>\n",
       "    <tr>\n",
       "      <th>327292</th>\n",
       "      <td>West Bengal</td>\n",
       "      <td>2011.0</td>\n",
       "      <td>294</td>\n",
       "      <td>Murarai</td>\n",
       "      <td>GEN</td>\n",
       "      <td>Elahi Kamre Dr</td>\n",
       "      <td>M</td>\n",
       "      <td>CPM</td>\n",
       "      <td>CPM</td>\n",
       "      <td>73414.0</td>\n",
       "      <td>189320</td>\n",
       "    </tr>\n",
       "    <tr>\n",
       "      <th>327293</th>\n",
       "      <td>West Bengal</td>\n",
       "      <td>2011.0</td>\n",
       "      <td>294</td>\n",
       "      <td>Murarai</td>\n",
       "      <td>GEN</td>\n",
       "      <td>Nure Alam Chowdhury</td>\n",
       "      <td>M</td>\n",
       "      <td>AITC</td>\n",
       "      <td>AITC</td>\n",
       "      <td>77817.0</td>\n",
       "      <td>189320</td>\n",
       "    </tr>\n",
       "  </tbody>\n",
       "</table>\n",
       "<p>327294 rows × 11 columns</p>\n",
       "</div>"
      ],
      "text/plain": [
       "               st_name    year  ac_no    ac_name ac_type  \\\n",
       "0       Andhra Pradesh  1978.0      1  Ichapuram     GEN   \n",
       "1       Andhra Pradesh  1978.0      1  Ichapuram     GEN   \n",
       "2       Andhra Pradesh  1978.0      1  Ichapuram     GEN   \n",
       "3       Andhra Pradesh  1978.0      1  Ichapuram     GEN   \n",
       "4       Andhra Pradesh  1978.0      1  Ichapuram     GEN   \n",
       "...                ...     ...    ...        ...     ...   \n",
       "327289     West Bengal  2011.0    294    Murarai     GEN   \n",
       "327290     West Bengal  2011.0    294    Murarai     GEN   \n",
       "327291     West Bengal  2011.0    294    Murarai     GEN   \n",
       "327292     West Bengal  2011.0    294    Murarai     GEN   \n",
       "327293     West Bengal  2011.0    294    Murarai     GEN   \n",
       "\n",
       "                        cand_name cand_sex                     partyname  \\\n",
       "0                Manabala Ramarao        M                   Independent   \n",
       "1                     Appadu Sahu        M                   Independent   \n",
       "2                Uppada Rangababu        M      Indian National Congress   \n",
       "3            Kalla Balarama Swamy        M  Indian National Congress (I)   \n",
       "4       Bendalam Venkatesam Sarma        M                  Janata Party   \n",
       "...                           ...      ...                           ...   \n",
       "327289                  Ajrail Md        M                           IND   \n",
       "327290             Shiblal Sardar        M                           BSP   \n",
       "327291    Sudhiranjan Das Goswami        M                           BJP   \n",
       "327292             Elahi Kamre Dr        M                           CPM   \n",
       "327293        Nure Alam Chowdhury        M                          AITC   \n",
       "\n",
       "       partyabbre  totvotpoll  electors  \n",
       "0             IND       813.0     83247  \n",
       "1             IND      1743.0     83247  \n",
       "2             INC      4427.0     83247  \n",
       "3          INC(I)     19805.0     83247  \n",
       "4             JNP     34251.0     83247  \n",
       "...           ...         ...       ...  \n",
       "327289        IND      2471.0    189320  \n",
       "327290        BSP      3074.0    189320  \n",
       "327291        BJP      4961.0    189320  \n",
       "327292        CPM     73414.0    189320  \n",
       "327293       AITC     77817.0    189320  \n",
       "\n",
       "[327294 rows x 11 columns]"
      ]
     },
     "execution_count": 3,
     "metadata": {},
     "output_type": "execute_result"
    }
   ],
   "source": [
    "df= pd.read_csv(\"indian-state-level-election.csv\")\n",
    "df"
   ]
  },
  {
   "cell_type": "code",
   "execution_count": 7,
   "id": "d9ff26d8-5190-4794-84a4-53e8f5b83ba0",
   "metadata": {},
   "outputs": [
    {
     "data": {
      "text/plain": [
       "3600234"
      ]
     },
     "execution_count": 7,
     "metadata": {},
     "output_type": "execute_result"
    }
   ],
   "source": [
    "df.size"
   ]
  },
  {
   "cell_type": "code",
   "execution_count": 9,
   "id": "238ec31b-3058-4129-a354-0df3ede6a783",
   "metadata": {},
   "outputs": [
    {
     "name": "stdout",
     "output_type": "stream",
     "text": [
      "<class 'pandas.core.frame.DataFrame'>\n",
      "RangeIndex: 327294 entries, 0 to 327293\n",
      "Data columns (total 11 columns):\n",
      " #   Column      Non-Null Count   Dtype  \n",
      "---  ------      --------------   -----  \n",
      " 0   st_name     327294 non-null  object \n",
      " 1   year        327294 non-null  float64\n",
      " 2   ac_no       327294 non-null  int64  \n",
      " 3   ac_name     311211 non-null  object \n",
      " 4   ac_type     327294 non-null  object \n",
      " 5   cand_name   327294 non-null  object \n",
      " 6   cand_sex    321992 non-null  object \n",
      " 7   partyname   327294 non-null  object \n",
      " 8   partyabbre  324588 non-null  object \n",
      " 9   totvotpoll  327287 non-null  float64\n",
      " 10  electors    327294 non-null  int64  \n",
      "dtypes: float64(2), int64(2), object(7)\n",
      "memory usage: 27.5+ MB\n"
     ]
    }
   ],
   "source": [
    "df.info()"
   ]
  },
  {
   "cell_type": "code",
   "execution_count": 13,
   "id": "1e3935d9-e46c-45b2-be32-b4fbd999480c",
   "metadata": {},
   "outputs": [
    {
     "name": "stdout",
     "output_type": "stream",
     "text": [
      "<class 'pandas.core.frame.DataFrame'>\n",
      "RangeIndex: 327294 entries, 0 to 327293\n",
      "Data columns (total 7 columns):\n",
      " #   Column      Non-Null Count   Dtype  \n",
      "---  ------      --------------   -----  \n",
      " 0   st_name     327294 non-null  object \n",
      " 1   year        327294 non-null  float64\n",
      " 2   cand_sex    321992 non-null  object \n",
      " 3   partyname   327294 non-null  object \n",
      " 4   partyabbre  324588 non-null  object \n",
      " 5   totvotpoll  327287 non-null  float64\n",
      " 6   electors    327294 non-null  int64  \n",
      "dtypes: float64(2), int64(1), object(4)\n",
      "memory usage: 17.5+ MB\n"
     ]
    }
   ],
   "source": [
    "df.drop(columns=['ac_no','ac_name','ac_type','cand_name'], axis=1, inplace= True)\n",
    "df.info()"
   ]
  },
  {
   "cell_type": "code",
   "execution_count": 19,
   "id": "a84a8f1f-618d-4bce-b60e-935100853782",
   "metadata": {},
   "outputs": [
    {
     "name": "stdout",
     "output_type": "stream",
     "text": [
      "<class 'pandas.core.frame.DataFrame'>\n",
      "Index: 327294 entries, 0 to 327293\n",
      "Data columns (total 7 columns):\n",
      " #   Column          Non-Null Count   Dtype  \n",
      "---  ------          --------------   -----  \n",
      " 0   State_Name      327294 non-null  object \n",
      " 1   year            327294 non-null  float64\n",
      " 2   Gender          321992 non-null  object \n",
      " 3   Party_Name      327294 non-null  object \n",
      " 4   partyabbre      324588 non-null  object \n",
      " 5   Votes_Recieved  327287 non-null  float64\n",
      " 6   Total_Votes     327294 non-null  int64  \n",
      "dtypes: float64(2), int64(1), object(4)\n",
      "memory usage: 20.0+ MB\n"
     ]
    }
   ],
   "source": [
    "df.rename(columns={'totvotpoll':'Votes_Recieved','cand_sex':'Gender','st_name':'State_Name','partyname':'Party_Name','electors':'Total_Votes'}, inplace=True)\n",
    "df.info()"
   ]
  },
  {
   "cell_type": "code",
   "execution_count": 21,
   "id": "6637e29a-7b23-4c88-b010-b1a6852bf20d",
   "metadata": {},
   "outputs": [
    {
     "data": {
      "text/plain": [
       "State_Name           0\n",
       "year                 0\n",
       "Gender            5302\n",
       "Party_Name           0\n",
       "partyabbre        2706\n",
       "Votes_Recieved       7\n",
       "Total_Votes          0\n",
       "dtype: int64"
      ]
     },
     "execution_count": 21,
     "metadata": {},
     "output_type": "execute_result"
    }
   ],
   "source": [
    "df.isna().sum()"
   ]
  },
  {
   "cell_type": "code",
   "execution_count": 25,
   "id": "c51b9018-772d-440d-b626-aad549c6ecf9",
   "metadata": {},
   "outputs": [
    {
     "data": {
      "text/plain": [
       "array(['M', 'F', nan, 'O'], dtype=object)"
      ]
     },
     "execution_count": 25,
     "metadata": {},
     "output_type": "execute_result"
    }
   ],
   "source": [
    "df.Gender.unique()"
   ]
  },
  {
   "cell_type": "code",
   "execution_count": 29,
   "id": "76445a07-94f6-44fc-a8a5-eca61edb2e97",
   "metadata": {},
   "outputs": [
    {
     "data": {
      "text/plain": [
       "array(['M', 'F', 'O'], dtype=object)"
      ]
     },
     "execution_count": 29,
     "metadata": {},
     "output_type": "execute_result"
    }
   ],
   "source": [
    "df.Gender.fillna('O', inplace= True)\n",
    "df.Gender.unique()"
   ]
  },
  {
   "cell_type": "code",
   "execution_count": 31,
   "id": "0d839af7-3af3-4f43-8593-6332f2508762",
   "metadata": {},
   "outputs": [
    {
     "data": {
      "text/plain": [
       "State_Name           0\n",
       "year                 0\n",
       "Gender               0\n",
       "Party_Name           0\n",
       "partyabbre        2706\n",
       "Votes_Recieved       7\n",
       "Total_Votes          0\n",
       "dtype: int64"
      ]
     },
     "execution_count": 31,
     "metadata": {},
     "output_type": "execute_result"
    }
   ],
   "source": [
    "df.isna().sum()"
   ]
  },
  {
   "cell_type": "code",
   "execution_count": 35,
   "id": "274053da-5a32-46b9-8bec-d0777987546d",
   "metadata": {},
   "outputs": [],
   "source": [
    "df.partyabbre.fillna('Unknown', inplace= True)\n"
   ]
  },
  {
   "cell_type": "code",
   "execution_count": 39,
   "id": "41a37e27-14b7-4d81-a3f6-ae2ca81a544c",
   "metadata": {},
   "outputs": [
    {
     "data": {
      "text/plain": [
       "State_Name        0\n",
       "year              0\n",
       "Gender            0\n",
       "Party_Name        0\n",
       "partyabbre        0\n",
       "Votes_Recieved    7\n",
       "Total_Votes       0\n",
       "dtype: int64"
      ]
     },
     "execution_count": 39,
     "metadata": {},
     "output_type": "execute_result"
    }
   ],
   "source": [
    "df.isna().sum()"
   ]
  },
  {
   "cell_type": "code",
   "execution_count": 41,
   "id": "850f30a4-3619-4e38-b64c-1ecc205eba83",
   "metadata": {},
   "outputs": [],
   "source": [
    "df.dropna(inplace= True)"
   ]
  },
  {
   "cell_type": "code",
   "execution_count": 43,
   "id": "8e7c176d-99e9-48fe-81bd-2c9a03a085c3",
   "metadata": {},
   "outputs": [
    {
     "data": {
      "text/plain": [
       "State_Name        0\n",
       "year              0\n",
       "Gender            0\n",
       "Party_Name        0\n",
       "partyabbre        0\n",
       "Votes_Recieved    0\n",
       "Total_Votes       0\n",
       "dtype: int64"
      ]
     },
     "execution_count": 43,
     "metadata": {},
     "output_type": "execute_result"
    }
   ],
   "source": [
    "df.isna().sum()"
   ]
  },
  {
   "cell_type": "code",
   "execution_count": 45,
   "id": "8d9b6497-4a91-472e-9750-ebcb06d4a73c",
   "metadata": {},
   "outputs": [
    {
     "name": "stdout",
     "output_type": "stream",
     "text": [
      "<class 'pandas.core.frame.DataFrame'>\n",
      "Index: 327287 entries, 0 to 327293\n",
      "Data columns (total 7 columns):\n",
      " #   Column          Non-Null Count   Dtype  \n",
      "---  ------          --------------   -----  \n",
      " 0   State_Name      327287 non-null  object \n",
      " 1   year            327287 non-null  float64\n",
      " 2   Gender          327287 non-null  object \n",
      " 3   Party_Name      327287 non-null  object \n",
      " 4   partyabbre      327287 non-null  object \n",
      " 5   Votes_Recieved  327287 non-null  float64\n",
      " 6   Total_Votes     327287 non-null  int64  \n",
      "dtypes: float64(2), int64(1), object(4)\n",
      "memory usage: 20.0+ MB\n"
     ]
    }
   ],
   "source": [
    "df.info()"
   ]
  },
  {
   "cell_type": "code",
   "execution_count": 47,
   "id": "2ff4dafc-1610-4f93-ab59-93e1b9ae8fa5",
   "metadata": {},
   "outputs": [
    {
     "data": {
      "text/plain": [
       "0         False\n",
       "1         False\n",
       "2         False\n",
       "3         False\n",
       "4         False\n",
       "          ...  \n",
       "327289    False\n",
       "327290    False\n",
       "327291    False\n",
       "327292    False\n",
       "327293    False\n",
       "Length: 327287, dtype: bool"
      ]
     },
     "execution_count": 47,
     "metadata": {},
     "output_type": "execute_result"
    }
   ],
   "source": [
    "df.duplicated()"
   ]
  },
  {
   "cell_type": "code",
   "execution_count": 49,
   "id": "29d8efaf-f3eb-4505-af08-0adb05c8f633",
   "metadata": {},
   "outputs": [
    {
     "name": "stdout",
     "output_type": "stream",
     "text": [
      "<class 'pandas.core.frame.DataFrame'>\n",
      "Index: 323764 entries, 0 to 327293\n",
      "Data columns (total 7 columns):\n",
      " #   Column          Non-Null Count   Dtype  \n",
      "---  ------          --------------   -----  \n",
      " 0   State_Name      323764 non-null  object \n",
      " 1   year            323764 non-null  float64\n",
      " 2   Gender          323764 non-null  object \n",
      " 3   Party_Name      323764 non-null  object \n",
      " 4   partyabbre      323764 non-null  object \n",
      " 5   Votes_Recieved  323764 non-null  float64\n",
      " 6   Total_Votes     323764 non-null  int64  \n",
      "dtypes: float64(2), int64(1), object(4)\n",
      "memory usage: 19.8+ MB\n"
     ]
    }
   ],
   "source": [
    "df.drop_duplicates(inplace=True)\n",
    "df.info()"
   ]
  },
  {
   "cell_type": "code",
   "execution_count": 51,
   "id": "26eb7fad-b43c-4685-9e40-c633b79149cc",
   "metadata": {},
   "outputs": [
    {
     "data": {
      "text/plain": [
       "array(['Andhra Pradesh', 'Arunachal Pradesh', 'Assam', 'Bihar',\n",
       "       'Chhattisgarh', 'Goa', 'Gujarat', 'Haryana', 'Himachal Pradesh',\n",
       "       'Jammu & Kashmir', 'Jharkhand', 'Karnataka', 'Kerala',\n",
       "       'Madhya Pradesh', 'Maharashtra', 'Manipur', 'Meghalaya', 'Mizoram',\n",
       "       'Nagaland', 'National Capital Territory Of Delhi', 'Odisha',\n",
       "       'Puducherry', 'Punjab', 'Rajasthan', 'Sikkim', 'Tamil Nadu',\n",
       "       'Tripura', 'Uttar Pradesh', 'Uttarakhand', 'West Bengal'],\n",
       "      dtype=object)"
      ]
     },
     "execution_count": 51,
     "metadata": {},
     "output_type": "execute_result"
    }
   ],
   "source": [
    "df.State_Name.unique()"
   ]
  },
  {
   "cell_type": "code",
   "execution_count": 53,
   "id": "1eb64201-26a4-43b5-bbb3-d949d405c913",
   "metadata": {},
   "outputs": [
    {
     "data": {
      "text/plain": [
       "array(['M', 'F', 'O'], dtype=object)"
      ]
     },
     "execution_count": 53,
     "metadata": {},
     "output_type": "execute_result"
    }
   ],
   "source": [
    "df.Gender.unique()"
   ]
  },
  {
   "cell_type": "code",
   "execution_count": 55,
   "id": "e7c1f7da-fcb0-49bf-8eba-10f623ff3ab2",
   "metadata": {},
   "outputs": [
    {
     "data": {
      "text/plain": [
       "array(['Independent', 'Indian National Congress',\n",
       "       'Indian National Congress (I)', ..., 'STPI', 'DSP(P)', 'JHAP'],\n",
       "      dtype=object)"
      ]
     },
     "execution_count": 55,
     "metadata": {},
     "output_type": "execute_result"
    }
   ],
   "source": [
    "df.Party_Name.unique()"
   ]
  },
  {
   "cell_type": "code",
   "execution_count": 59,
   "id": "82fa9aa3-6db1-4a3e-95bc-dc78038db47e",
   "metadata": {},
   "outputs": [
    {
     "name": "stdout",
     "output_type": "stream",
     "text": [
      "['Independent', 'Indian National Congress', 'Indian National Congress (I)', 'Janata Party', 'Communist Party Of India', 'Republican Party Of India (Khobragade)', 'Communist Party Of India (Marxist)', 'Republican Party Of India', 'All India Anna Dravida Munnetra Kazhagam', 'Dravida Munnetra Kazhagam', 'Akhil Bharatiya Ramrajya Parishad', 'Backward Classes Mahasabha', 'Independents', 'Bhartiya Janta Party', 'Lok Dal', 'Janta Party', 'Indian Congress (Socialist)', 'Telugu Desam Party', 'Indian Congress (Jagjivan Ram)', 'Telugu Desam', 'Bharatiya Janta Party', 'Bahujan Samaj Party', 'Lok Dal (B)', 'Janata Party (Jp)', 'Marxist Communist Party Of India', 'Communist Party Of India (Marxist-Leninist)', 'All India Majlis-E Ithehad-Ul Muslimeen', 'Bhartiya Janata Party', 'Janata Dal', 'All India Dalit Muslim Minorities Suraksha Mahasangh', 'Indian Union Muslim League', 'Sikkim Sangram Parishad', 'Lok Party', 'Akhil Bharatiya Jana Sangh', 'Mahatama Gandhi Samajam', 'Bharatiya Janata Party', 'Communist Party Of India (Marxist-Lenninist)', 'Samata Party', 'National Students Party', 'Samajwadi Party', 'Republican Party Of India(A)', 'Rastreeya Praja Parishat', 'All India Majlis-E-Ittehadul Muslimeen', 'Rashtreeya Praja', \"National People'S Party\", 'Andhra Pradesh Navodaya Praja Party', 'Samajwadi Janata Party', 'Janata Dal (Not To Be Used In General Elections, 1999)', 'Majlis Bachao Tahreek', 'Swarajya Party', 'Samajwadi Janata Party (Rashtriya)', 'Bharatiya Rashtriya Party', 'Anna Telugu Desam Party', 'Ntr Telugu Desam Party (Lakshmi Parvathi)', 'Bahujan Republican Party', 'Ajeya Bharat Party', 'Pyramid Party Of India', 'Marxist Communist Party Of India (S.S.Srivastava)', 'Shivsena', 'Rashtriya Mazdoor Ekta Party', 'Nationalist Congress Party', 'Communist Party Of India (Marxist-Lenninist) (Liberation)', 'Janata Dal (Secular)', 'Rashtriya Janata Dal', 'Akhil Bharatiya Ram Rajya Parishad (Prem Ballabh Vyas)', 'New India Party', 'Lok Shakti', 'Communist Party Of India (Marxist-Leninist) (Liberation)', 'Republican Party Of India(Khobragade)', 'Rashtriya Praja Congress (Secular)', 'Marxist Communist Party Of India (S.S. Srivastava)', 'Akhil Bharatiya Jan Sangh', 'Bharatiya Rashtravadi Paksha', 'Mudiraj Rashtriya Samithi', 'B. C. United Front', 'Praja Party', 'Samajwadi Janata Party(Rashtriya)', 'Ambedkar National Congress', 'Telangana Rashtra Samithi', 'Muslim League Kerala State Committee', 'Telangana Congress Party', 'Lok Jan Shakti Party', 'Indian Justice Party', 'Telangana Praja Party', 'Peoples Republican Party', 'Bahujan Samaj Party (Ambedkar)', 'Indigenous Nationalist Party Of Twipra', 'LSP', 'BSP', 'PPOI', 'IND', 'PRAP', 'BJP', 'INC', 'TRS', 'JD(S)', 'CPI', 'TDP', 'BSP(AP)', 'CPI(ML)(L)', 'TPPP', 'CPM', 'MUL', 'SP', 'BHSASP', 'MCPI(S)', 'JD(U)', 'AJBP', 'RPI(A)', 'SAP', 'RJD', 'RKSP', 'IJP', 'GRIP', 'ABJS', 'MANP', 'ANC', 'AIFB', 'DABAP', 'APNPP', 'UWF', 'PRSHP', 'AIMIM', 'SHS', 'RSP', 'SJP(R)', 'RPI(KH)', 'RPC(S)', 'MBT', 'KKJHS', 'JMBP', 'BCUF', 'RDHP', 'BSSP', 'RPI', 'PBHP', 'PP', 'BJSH', 'RRS', 'YSRCP', 'NOTA', 'MASP', 'NIP', 'RLD', 'AAAP', 'RP(K)', 'MCPI', 'PJDL', 'GGP', 'IUML', 'WPOI', 'BMUP', 'PRBP', 'ICSP', 'TMOR', 'VOP', 'MTP', 'TPS', 'NCP', 'JP', 'TLP', 'AHNP', 'JASPA', 'SPS', 'APRSSP', 'GAAP', 'IMPP', 'ESP', 'JASP', 'RSPI', 'SRS', 'JAP', 'MMSP', 'SUCI', 'NBNP', 'BUDM', 'TECPI', 'SP(I)', 'AIACP', 'MMS', 'YTP', 'AILP', 'LJP', 'PNPT', 'ARPS', 'YSRPP', 'ILP(AP)', 'HJP', 'NPT', 'ALPP', 'SDPI', 'RPS', 'YBP', 'CPIM', 'SDLPI', 'SHP', 'STR', \"People'S Party Of Arunachal\", 'Indian National Congress (U)', 'Arunachal Congress', 'PPA', 'AITC', 'NPF', 'Socialist Unity Centre Of India', 'Revolutionary Socialist Party', 'All India Forward Block', 'Plains Tribals Council Of Assam', 'Revolutionary Communist Party Of India', 'All India Gorkha League', 'Asom Gana Parishad', 'Natun Asom Gana Parishad', 'Indian Congress (Socialist - Sarat Chandra Sinha', 'United Reservation Movement Council Assam', 'United Minorities Front Assam', 'Amra Bangalee', 'Autonomous State Demand Committee', 'Gantantric Gana Sammelan', 'United Peoples Congress Of Assam', 'Asom Jatiyatabadi Dal', 'Real Communist Party Of India', 'Asom Jatiya Parishad', 'Sanjukta Loka Parishad', 'Communist Party Of India (Marxist - Leninist)', 'Janata Dal (Samajwadi)', 'Indian Peoples Fornt', 'Ravolutionary Communist Party Of India (Rasik Bhatt)', 'Doordasthi Party', 'All India Indira Congress (Tiwari)', 'United Minorities Front, Assam', 'Xxx', 'Revolutionary Communist Party Of India (Rasik Bhatt)', 'Social Action Party', 'Akhil Bhartiya Shivsena - Rashtrawadi', 'All India Trinamool Congress', 'Autonomous State Demand Committee (United)', 'Autonomous State Demand Committee (Progressive)', 'Janata Dal (United)', 'United Reservation Movement Council Of Assam', 'United Bodo Nationalist Liberation Front', \"People'S Democratic Front\", 'United Tribal Nationalists Liberation Front', 'Asom Gana Parishad Pragtisheel', 'Assam United Democratic Front', 'Communist Party of India', 'Communist Party of India (Marxist)', 'Communist Party of India (Marxist-Leninist) (Liberation)', 'Navbharat Nirman Party', 'Loko Sanmilon', 'All India Minorities Front', 'National Loktantrik Party', 'Hindusthan Suraksha Party', 'Trinamool Gana Parishad', 'Republican Party of India', 'Revolutionary Communist Party of India (Rasik Bhatt)', 'United Reservation Movement Council of Assam', 'AGP', 'AIUDF', 'CPIMLL', 'ASDC', 'AIMF', 'BOPF', 'LB', 'JMM', 'LKS', 'JKNPP', 'RCPI(R)', 'AUDF', 'Bihar Prant Hul Jharkhand', 'Shoshit Samaj Dal (Akhil Bhartiya)', 'Workers Party Of India', 'Proutist Bloc Of India', 'Jharkhand Party', 'All India Jharkhand Party', 'Muslim League', 'Chhotanagpur Bhumi Rakshak Party', 'Janata Party (Secular) - Ch. Charan Singh', 'Janata Party (Secular) Raj Narain', 'Bharatiya Socialist Party', 'All India Forward Bloc', 'Jharkhand Mukti Morcha', 'Shoshit Samaj Dal (Akhil Bharatiya)', 'Indian Conress (J)', 'Surajya Party', 'Doordarshi Party', 'Bharat Desham Congress', 'Bharatiya Krishi Udyog Sangh', 'Bharatiya Backward Party', 'Indian Congress (Socialist-Sarat Chandra Sinha)', 'United Communist Party Of India', 'Indian Peoples Front', 'Socialist Party (Lohia)', 'Akhil Bharatiya Hindu Mahasabha', 'Akhil Bharatiya Desh Bhakt Morcha', 'Insaf Party', 'Azad Party', 'Pruutist Bloc India', 'Shoshit Samaj Dal', 'Akhil Bharatiya Pichhadavarg Party', 'Akhil Bharatiya Ram Rajya Parishad', 'Akhil Bahartiya Socialist Party', 'Marxist Co-Ordination', 'Hul Jharkhand', 'Jharkhand Dal', 'Progressive Hul Jharkhand Party', 'Antharrastriya Abhimanyu Vichar Manch', 'Dalit Mazdoor Kisan Party', 'Rashtriya Samdarshi Party', 'Akhil Bharatiya Loktantantrik Alap Sankhayak Jan Morcha', 'Bhartiya Pragatisheel Party', 'Champaran Vikas Party', 'Communist Party Of India (Marxist-Lenninist)(Liberation)', 'Proutist Sarva Samaj Samiti', 'Arkshan Virodhi  Arya Morcha', 'Akhil Bharatiya Socialist Party', 'Soshan Mukti Morcha', 'Lok Tantrik Samajwadi Morcha', 'Dalit Sena', 'Jai Nav Jawan Jai Majdoor Kisan Party', 'Jharkhand Mukti Morcha(Soren)', 'Jharkhand Mukti Morcha (Mardi)', 'Chotanagapur Santhal Pargana Jan Seva Dal', 'Progressive Hool Jharkhand Party', 'Hindustan Janta Party', 'Bharat Mahila Swatantra Party', \"Jharkhand People'S Party\", 'Kisan Desham', 'Bahujan Kranti Dal', 'Bharatiya Adarash Party', 'Akhil Bharat Hindu Maha Sabha', 'Bharatiya Rashtrawadi Dal', 'Kosal Party', 'Jharkhand Liberation Front', 'Akhil Hind Forward Block', 'Akhil Bharatiya Alp Sankhyak Jan Morcha', 'Bharatiya Jan Vikas Party', 'Rashtriya Lok Dal', 'Bhartiya Jana Congress (Rashtriya)', 'Samajwadi Jan Parishad', 'Kamjor Varg Sangh,Bihar', \"Bihar People'S Party\", 'Bharatiya Jan Congress', 'Kisan Mazdoor Bahujan Party', 'Apna Dal', 'Samajik Jantantrik Party', 'Loktantrik Samajwadi Party', 'National Democratic Peoples Front', 'Awami Party', 'Bharatiya Momin Front', 'Hind Kisan Mazdoor Party', 'Akhil Bharat Hindu Mahasabha', 'Rashtriya Kisan Party', 'National Democratic Party', 'United Goans Democratic Party', 'Bihar Jan Congress', 'Hul Jhharkhand Party', 'Jai Jawan Jai Kisan Mazdoor Congress', 'Rashtriya Krantikari Samajwadi Party', 'Bajjikanchal Vikas Party', 'Akhil Bharatiya Ashok Sena', 'Krantikari Samyavadi Party', 'Bharat Mangalam Parishad', 'Gondvana Gantantra Party', 'Lok Sewa Dal', 'Lokpriya Samaj Party', 'Rashtriya Garib Dal', 'Rashtravadi Janata Party', 'Marxist Communist Party of India (S.S. Srivastava)', 'Rashtriya Lok Seva Morcha', 'Rashtriya Samanta Dal', 'Jai Hind Party', 'Proutist Sarva Samaj Party', 'Jharkhand Disom Party', 'Janhit Samaj Party', 'Federal Congress of India', \"Akhand Jharkhand People's Front\", 'Kosi Vikas Party', 'Sarvhara Dal', 'All India Forward Bloc (Subhasist)', 'Adarsh Political Party', 'Rashtriya Swabhimaan Party', 'Jawan Kisan Morcha', 'Shoshit Samaj Party', 'Sanatan Samaj Party', 'Suheldev Bhartiya Samaj Party', 'Pragatisheel Manav Samaj Party', 'Buddhiviveki Vikas Party', 'Akhil Jan Vikas Dal', 'Bharatiya Ekta Dal', 'Jai Prakash Janata Dal', 'Rashtriya Kamjor Varg Party', 'Republican Party of India(A)', 'Jammu & Kashmir National Panthers Party', 'Bharatiya Jantantrik Janta Dal', 'Janvadi Party(Socialist)', 'Bharat Vikas Morcha', 'Rashtriya Krantikari Janata Party', 'Rashtra Sewa Dal', 'Vanchitsamaj Insaaf Party', 'Garib Vikas Party', 'Indian National Green Party', 'Smast Bhartiya Party', 'Bahujan Ekta Party ( R )', 'Akhil Bharitya Mithila Party', 'Bharatiya Jan Kranti Dal (Democratic)', 'Loktantrik Sarvjan Samaj Party', 'Rashtriya Jan-Jagram Morcha', 'Socialist Janta Party', 'Bahujan Shakty', 'Jai Maha Bharath Party', 'Hindusthan Nirman Dal', 'Rashtriya Pragati Party', 'Socialist Unity Centre Of India (Communist)', 'Indiya Jananayaka Katchi', 'Rashtriya Samajwadi Party (Secular)', 'Akhand Bharat Samaj Party', 'Proutist Sarva Samaj', 'Jharkhand Vikas Morcha (Prajatantrik)', 'Bharatiya Inqalab Party', 'Lal Morcha', 'Janhit Dal', 'Rashtrawadi Sena', 'Bharatiya Jagaran Party', 'Akhil Bhartiya Atyant Pichara Sangharsh Morcha Party', 'Proutist Bolc India', 'All India Babu Jagjivan Ram Saheb National Congress', 'Akhil Bharatiya Hind Kranti Party', 'Alpjan Samaj Party', 'Bahujan Sangharsh Party (Kanshiram)', 'Loksena', 'Chhattisgarhi Samaj Party', 'Yuva Gantantra Party', 'Akhil Bharatiya Manav Adhikar Dal', 'Chhattisgarh Mukti Morcha', 'Akhil Bharatiya Bharat Mata \\x96 Putra Paksha', 'RGOP', 'GMS', 'CGVP', 'CSP', 'SUSP', 'JCGP', 'BBP', 'RPI(KM)', 'BPSGKD', 'LSWP', 'AD', 'ABSSP', 'BHBP', 'ABMAD', 'ABHM', 'CVKP', 'CMM', 'APP', 'PBRP', 'CSM', 'NPEP', 'BhDC', 'LCPY', 'BASMM', 'ABGP', 'RABP', 'PRCP', 'BHPD', 'AVIRP', 'MNDP', 'Aa S P', 'SBSP', 'BSCP', 'SSBD', 'BSHSP', 'CHSJP', 'BHMP', 'AJP', 'bhmm', 'UGDP', 'MAG', 'SGF', 'GSRP', 'GVP', 'Yuva Vikas Party', 'Rashtriya Pragtisheel Morcha', 'Gujarat Janata Parishad', 'Gujarat League', 'Republican Party Of India (Balakrishnan)', 'Socialist Party (Ramakant Pandey)', 'Republican Party Of India (Democratic)', 'Rashtriya Surajya Parishad', 'Hindu Swaraj Sanghathan', 'Socialist League Of India', 'Bharatiya Minorities Suraksha Mahasangh', 'Gareebjan Samaj Party', 'All India Rashtriya Janata Party', 'Akhil Bartiya Manav Seva Dal', 'Rastriya Gurujan Party', 'Rashtriya Komi Ekta Party', 'Bharatiya Navshakti Party', 'Rashtriya Sindhi Congress', 'Republican Party of India (A)', 'Bharatiya Jan Shakti', 'National Secular Party', 'Akhil Bharatiya Manav Seva Dal', 'Janmangal Paksh', 'Bharatiya Jankranti Party', 'Akhil Bharatiya Congress Dal (Ambedkar)', 'Vishva Hindustani Sangathan', 'New Socialist Movement Party', 'Republican Party of India (Khobragade)', 'Lok Paritran', 'Gujarat Yuva Vikas Party', 'Aadivasi Sena Party', 'Sardar Patel Congress Party', 'GPP', 'MaJP', 'VHS', 'SVPP', 'BNJD', 'BhJD', 'LoRP', 'PAP', 'RSP(S)', 'BSDL', 'DBSP', 'NBN', 'NSM', 'ASP', 'ABMSD', 'RKEP', 'HND', 'RSPS', 'YuS', 'IF', 'AJKP', 'Vishal Haryana Party', 'Lok Dal (Ajit Singh)', 'Indian Congress (Jagjivan Ram - Bhalla Group)', 'Indian Congress(Socialist-Sarat Chandra Sinha)', 'Haryana Vikas Party', 'All India Youth Akali Dal', 'Pandav Dal', 'Rashtriya Krantikari Dal', 'Desh Bhakti Party', 'Maydhaavi Congress (J)', 'Jawan Kisan Mazdur Party', 'Haryana Chhatra Yuva Morcha', 'Kalyan Morcha', 'Sarvajati Janta Panchayat', 'Arya Sabha', 'Bhoomijotak Samooh', 'Janhit Morcha', 'Bahujan Kranti Dal (Jai)', 'Jansatta Party', 'Political Party Of National Management Service', 'Indian National Lok Dal', 'Rashtriya Sawarn Dal', 'Bharatiya Jan Kisan Party', 'Ambedkar Samaj Party', 'Ekta Shakti', 'Bharatiya Republican Paksha', 'Samajik Ekta Party', 'Bhartiya Nojawan Dal', 'Labour Party (Secular)', 'Niswarth Sewa Party', 'HJCBL', 'INLD', 'LPSP', 'RGD', 'SMBHP', 'SAD', 'BRPP', 'BSP(K)', 'ES', 'RSKP', 'RARS', 'UKSP', 'AIRP', 'VAJP', 'BSKP', 'LNP', 'HJD', 'BHC', 'HASWP', 'RASAP', 'JGP', 'RASJP', 'ABLTP', 'NELU', 'BRAVP', 'RND', 'RS', 'NLHP', 'JUP', 'AP', 'RASLP', 'HALP', 'HJCPV', 'NAJC', 'HRKD', 'RJP(E)', 'SAD(M)', 'BIP', 'SJSP', 'AJNSP', 'RVNP', 'PHRC', 'KAJP', 'RMEP', 'BHSMP', 'RBC', 'RPP(LB)', 'VIP', 'RMGP', 'TOP', 'Janta Dal', 'Himachal Kranti Party', 'Himachal Vikas Congress', 'Republican Janata Party', 'Loktantrik Morcha Himachal Pradesh', 'Bharatiya Bahujan Party', 'HiSP', 'HLP', 'Jammu & Kashmir National Conference', 'Jamait-I-Islami', 'Jamat-E-Islami, Jammu & Kashmir', 'Jammu & Kashmir Peoples Conference', 'Jammu & Kashmir Panthers Party', 'Jammu And Kashmir Awami League', 'Peoples Democratic Party', 'J & K National Panthers Party', 'Sanyukt Dastkar Party', 'Democratic Movement', 'PDF', 'JKPDP', 'JKANC', 'JKN', 'SDP', 'JKDPN', 'JKAL', 'BCDP', 'JKNUF', 'AIFB(S)', 'NDP', 'UCP', 'FB(S)', 'AJKMP', 'BSKRP', 'm', 'BCP', 'JSM(P)', 'KRD', 'JPC', 'RAJPA', 'JKPPS', 'JKPDF', 'AKAKRP', 'IPCP', 'DGPP', 'HKRD', 'JKPPAP', 'MC', 'AJSU', 'JDP', 'JKPP', 'JVC', 'JVD', 'JPJD', 'JKKP', 'PTSS', 'JKP', 'RLSM', 'MCO', 'BMF', 'RSMD', 'SVKP', 'SWJP', 'JJJKMC', 'SLP(L)', 'AMB', 'JKM', 'BPI', 'NLP', 'JKP(N)', 'LJSP', 'AJSUP', 'JVM', 'BSA', 'RADP', 'LTSD', 'NSAM', 'RKJP', 'BRSP', 'IPFB', 'SSD', 'RAPPRP', 'UNLP', 'JHJAM', 'PECP', 'JBSP', 'JHJAP', 'RAKAP', 'RASD', 'INNPT', 'LJVM', 'PPIS', 'BJJD', 'MMM', 'RSWD', 'AAMP', 'PMS', 'JJKM', 'SWRP', 'BASAPA', 'DESP', 'NYP', 'AWVP', 'JPS', 'AKBJHP', 'APOI', 'RAJSP', 'JDR', 'BSSPA', 'HKIP', 'BSUD', 'RMKPP', 'Karnataka Rajya Ryota Sangha', 'Social Revolutionary Party', 'Kannada Paksha', 'Kannada Chalavali Vatal Paksha', 'Karnataka Congress Party', 'Kranti Sabha', 'Indian National League', 'Bharatiya Alpa Sankyathar Maha Sangha', 'Kannada Desha Party', 'Akhil Bharatiya Sena', 'Satyayug Party', 'Kannada Nadu Party', 'Urs Samyuktha Paksha', 'Bharatiya Peoples And National Security National Party', 'Uttarakhand Sanskriti Parishad', 'Parcham Party Of India', 'Indian Christian Secular Party', 'Bharatiya Praja Paksha', 'Manava Party', 'Sirpanch Samaj Party', 'RAHS', 'SKP', 'SUP', 'NDEP', 'SVP', 'KCVP', 'BPJP', 'ADMK', 'LKPT', 'TSNRP', 'KP', 'INL', 'BSRCP', 'KJP', 'KaSP', 'NPP', 'SJPA', 'KAP', 'BDBRAJP', 'KMP', 'BHPP', 'SAJP', 'ABML(S)', 'KRRS', 'SK', 'RCMP', 'AMJP', 'VJCP', 'MPHP', 'KDC', 'JVBP', 'SJKP', 'AKBRP', 'DPPS', 'Bhartiya Lok Dal', 'Muslim League (Opposition)', 'Kerala Congress', 'Kerala Congress (Pillai Group)', 'Kerala Congress (J)', 'All India Muslim League', 'Janata Party (Secular)', 'All India Labour Party', 'Kerala Congress (I)', 'Communist Marxist Party Of India', 'Kerala Congress (M)', 'Dravida Party Of India', 'M.G.R. Makkal Munnetra Kazhagam', 'Communist Marxist Party(Kerela State Committee)', 'Kerala Congress(M)', 'Bharatiya Labour Party', 'Communist Marxist Party Kerala State Committee', 'Janadhipathiya Samrekshna Samiti', 'Kerala Congress (Jacob)', 'Revolutionary Socialist Party Of Kerala (Bolshevik)', 'Kerala Congress (B)', 'United India Peoples Party', 'All Kerala M.G.R. Dravida Munnetra Party', 'Democratic Indira Congress (Karunakaran)', 'Congress (Secular)', 'Janadhipathya Samrakshana Samithi', 'Kerala Congress Secular', 'Revolutionary Socialist Party of Kerala (Bolshevik)', 'KEC(M)', 'SJD', 'PDP', 'KEC(J)', 'CMPKSC', 'KJ', 'JPSS', 'KC(AMG)', 'SLAP', 'KRSP', 'KEC(B)', 'DPSP', 'Akhil Bhartiya Ramrajya Parishad', 'Krantikari Samajwadi Manch', 'Socialist Party', 'Chattisgarh Mukti Morcha', 'Indian National Party', 'Gondvana Party', 'Kisan Mozdoor Gaon Raj', \"Indian People'S Front\", 'Samajwadi Jan Shakati Morcha', 'Akhil Bhartiya Manav Seva Dal', 'Bundelkhand Vikas Dal', 'Bhartiya Krishi Udyog Sangh', 'Chattisgarah Mukti Morcha', 'Chattisgarh Rajya Party', 'Republican Party Of India (Kamble)', 'Shivsena (Rastravadi)', 'Sarvadharam Party (Madhya Pradesh)', 'Savarn Samaj Party', 'Akhil Bhartiya Lok Tantrik Congress', 'Rashtriya Dharmanirpeksha Nava Bharat Party', 'Chhatisgarh Kisan Mazdoor Samajwadi Party', 'Madhya Pradesh Loktantrik Party', 'Bharatiya Manav Raksha Dal', 'Parivartan Samaj Party', 'Rashtriya Kranti Party', 'Loktantrik Jan Samta Party', 'Pragatisheel Party', 'Shakti Dal', 'Sarvahara Samaj Party', 'IVD', 'PSJP', 'BRVP', 'RSD', 'BAP', 'AIC', 'ABKP', 'BJNKP', 'YVP', 'SVSP', 'RDNBP', 'BHSSP', 'JMM(U)', 'PRSP', 'RTKP', 'RSGP', 'AMS', 'BMSM', 'BA S D', 'SamSP', 'MD', 'AaSP', 'BRMD', 'NRSN', 'KMPP', 'JND', 'MNNS', 'BC', 'RsAD', 'RBCP', 'RPD', 'PMSP', 'RKIVP', 'SBHSP', 'PBI', 'MPTY', 'RaP', 'JAMP', 'SBI', \"Peasant'S & Workers' Party\", 'Shiv Sena', \"Peasants' And Workers' Party\", \"Peasants'  And Workers Party Of India\", 'Peasants And Workers Party Of India', 'Akhil Bharatiya Maratha Mahasangha', 'Hul Jharkhand Party', 'Vishal Bharat Party', 'Azad Hind Fauz (Rajkiya)', 'Bharatiya Surajya Paksha', 'Sampooran Rashtriya Sena', 'Bharatiya Loktantrik Mazdoor Sangh', 'Bolshevik Party Of India', 'Akhil Bharatiya Revolutionary Shoshit Samaj Dal', 'Republican Presidium Party Of India', 'Bharipa Bahujan Mahasangha', 'Samajwadi Janata Party (Maharashtra)', 'Maharashtra Rashtravadi Congress', \"Native People'S Party\", 'Maharashtra Vikas Congress', 'National Republican Party', 'Democratic Party Of India', 'Vidarbha Praja Party', 'Nag Vidarbha Andolan Samiti', 'Rashtriya Samaj Sevak Dal', 'National Minorities Party', 'The Humanist Party Of India', 'Bharatiya Rajiv Congress', 'Abhinav Bharat Sangh', 'Swatantra Bharat Paksha', 'Bahujan Rashtriya Party', 'Peasants And Workers Party of India', 'Rashtriya Samaj Paksha', 'Lok Rajya Party', 'Womanist Party of India', 'Kranti Kari Jai Hind Sena', 'Shivrajya Party', 'All India Krantikari Congress', 'Maharashtra Secular Front', 'Jan Surajya Shakti', 'Sachet Bharat Party', 'Republican Party of India (Kamble)', 'Republican Party Of India (Democratic )', 'Maharashtra Rajiv Congress', 'Native Peopleâ\\x80\\x99s Party', 'Samajwadi Janata Party(Maharashtra)', 'Prabuddha Republican Party', 'Ambedkarist Republican Party', 'Vidharbha Rajya Party', 'Bahujan Mahasangha Paksha', 'Rashtriya Samajik Nayak Paksha', 'Vidharbha Janata Congress', 'Bharatiya Rashtriya Swadeshi Congress Paksh', 'Hindu Ekta Andolan Party', 'RWS', 'BBM', 'STBP', 'PWPI', 'MNS', 'LKSGM', 'SVRP', 'JSS', 'USCPI', 'SWP', 'ABHS', 'DESEP', 'RPI(D)', 'BREM', 'BPP', 'ABMP', 'BVA', 'RPIE', 'HISWP', 'AIKC', 'RAS', 'PRPI', 'BJSP', 'RSSDP', 'ARP', 'RPSN', 'RKCGP', 'BSP(A)', 'BDC', 'SARAPA', 'SSRD', 'RBS', 'PREP', 'HEAP', 'SAOI', 'LPI', 'NBPP', 'RAPA', 'RUC', 'MARP', 'HIPPA', 'LAP', 'BNS', 'RBSP', 'SNS', 'NSAMP', 'MVA', 'BHCP', 'JJP', 'MPP', 'MSCP', 'NNLP', 'PDA', 'MDPF', 'KHNAM', 'UDP', 'HPDP', 'MDP', 'GNC', 'HSPDP', 'NESDP', 'RsSC', \"People'S Conference\", 'Peoples Conference', 'Mizo National Front', 'Maraland Democratic Front', \"Mizoram People'S Conference\", 'Mizo National Front (Nationalist)', 'Zoram Nationalist Party', 'Hmar Peoples Convention', 'Ephraim Union', 'MPC', 'MNF', 'ZNP', 'MDF', 'UNDP', 'Desh Bhakt Party', 'Poorvanchal Rashtriya Congress', 'Bhartiya Jan Congress', 'Akhil Bhartiya Janta Vikas Party', 'Mukt Bharat', 'Shiromani Akali Dal (Simranjit Singh Mann)', 'Delhi Poorvanchal Party', 'Akhil Bhartiya Dharmnirpeksh Dal', 'Indian Democratic Socialist Party', 'Bharatiya Lok Tantrik Mazdoor Dal', 'Rashtriya Vikas Party', 'Labour Party Of India', 'Akhand Bharat Mahasang Sarvahara Krantikari Par', 'Bharatiya Ambedkar Dal', 'Jan Ekta Morcha', 'Hindusthani Shoshit Dal', 'Gommant Lok Pok', 'Bharat Mukti Dal', 'Rashtriya Unnatsheel Dal', 'Ekta Samaj Party', 'All India Forward Block (Marxist)', 'Akhil Bharatiya Shivsena Rashtrawadi', 'Rashtriya Aikta Manch', 'Bhartiya Kisan Mazdoor Party', 'Manav Samaj Party', 'Akhil Bharatiya Janata Congress', 'Bhrashtachar Virodhi Dal', 'Bharat Dal', 'United Citizens Party', 'Uttarakhand Kranti Dal', 'Jan Samanta Party', 'Akhil Bharatiya Dalit Utthan Party', 'Krantikari Manuwadi Morcha', 'All India Rajiv Krantikari Congress', 'Agar Jan Party', 'Rashtriya Unnatisheel Dal', 'Akhil Bharatiya Garib Mazdoor Kisan Party', 'Rashtriya Ali Sena', 'Rashtriya Muslim Mujhahid Party', 'Delhi Vikas Party', 'Rashtriya Bahujan Congress Party', 'Samata Sangharsh Party', 'Bharatiya Lokekta Congress Party', 'Akhand Bharti', 'Indian National Labour Party', 'Rashtriya Samajwadi Party (United)', 'Rashtriya Parivartan Dal', 'Dalit Muslim Vikas Party', 'Rashtriya Matrabhoomi Party', 'Akhil Bharatiya Aman Committee', 'Indian Peace Party', 'Indian Federal Democratic Party', 'Bharat Kranti Rakshak Party', 'United Citizen Party', 'Jan Chetna Party', 'MBP', 'MKUP', 'LD', 'BPC', 'UPUDF', 'RAM', 'ABSP', 'BVP', 'RSBP', 'RALP', 'RHC', 'RJTD', 'DBP', 'HRS', 'RJAP', 'NSCP', 'RRD', 'NJD', 'BPD', 'NADP', 'RSSHP', 'LPI(V)', 'IDP', 'AGRJP', 'RKAP', 'BJSSP', 'BNIP', 'baspb', 'ABSPARTY', 'RDPI', 'bjdi', 'bsvpt', 'AIBS', 'DJP', 'IBSP', 'PpGP', 'vsp', 'SOJP', 'RBHP', 'DMDK', 'ATBP', 'AACP', 'ABVCP', 'RaJSP', 'SSGP', 'RaMSP', 'JSMP', 'IPP', 'aicp', 'kajp', 'NaLP', 'JSHSP', 'RJ', 'PPGP', 'RAJP', 'BAJD', 'SASAPT', 'PSPARTY', 'BJDI', 'REP', 'BJKD', 'ASSP', 'HCP', 'DNP', 'VSP', 'SAAFP', 'PMPT', 'DMKP', 'GARPA', 'NACP', 'AMKP', 'BVLP', 'SHRP', 'NAVP', 'RTRSP', 'SAPP', 'BJM', 'SPP', 'AASAP', 'NAPT', 'Orissa Khandayat Khetria Krusak Party', 'Bira Oriya Party', 'Navabharat Party', 'Bharatiya Dhruba Labour Party', 'Karnataka Gana Parishad', 'Weat Orissa Peoples Front', 'Orissa Communist Party', 'Pratap Shiv Sena', 'Orissa Congress', 'Sarvodaya Party', 'Biju Janata Dal', 'Bharatiya Manavata Vikas Party', 'All Jharkhand Students Union', 'Orissa Gana Parishad', 'BJD', 'KOKD', 'SAMO', 'KS', 'OMM', 'JHKP', 'BOP', 'OCP', 'OJM', 'PCHVP', 'AOP', 'LGGP', 'SKD', 'BISD', 'RAIM', 'US', 'ABP', 'KOMM', 'ICPA', 'SOWP', 'JM', 'PMK', 'AINRC', 'PB', 'DMK', 'IJK', 'Shiromani Akali Dal', 'All India Shiromani Baba Jiwan Singh Mazabhi Dal', 'Dalit Panthers Party', 'Communist Party Of India (Marxist Leninist)', 'All India Shiromani Baba Jiwan Singh Mazhabi Dal', 'Bharatiya Krishni Udyog Santh', 'Bharti Lok Lehar Party', 'Punjab Janata Morcha', 'Bharatiya Ambedkar Party', 'Communist Party Of India (Marxist-Lennist)(Liberation)', 'Akhil Bharatiya Rajivwadi Congress (Dubey)', 'National Congress Of Youth', 'Akhil Bharatiya Lokraj Party', 'Labour Vikas Party', 'Internationalist Democratic Party', 'Phule Bharti Lok Party', 'Rashtriya Raksha Dal', 'Lok Bhalai Party', 'Democratic Bharatiya Samaj Party', 'Democratic Bahujan Samaj Morcha', 'Mool Bharati (S) Party', 'Bharatiya Gaon Taj Dal', 'Jan Morcha', 'Punjab Vikas Congress Party', 'Akhil Rashtrawadi Party', 'All India Dalit Welfare Congress', 'All India Bharti Jug Party', 'PPOP', 'SSPD', 'BGTD', 'DCP', 'PnPP', 'RVLP', 'BhJaSP', 'ARWP', 'BHSVP', 'ADJSP', 'ABSR', 'MB(S)P', 'AIKMM', 'PLP', 'JanSP', 'AISBJSMD', 'Shiromani Akali Dal (Amster Tara Singh)', 'Samajwadi Dal', 'Indian Congress (J) Trikha Group', 'Janta Dal (Pragatisheel)', 'Bharatiya Jan Sabha', 'Sajhavadi Party', 'Rashtriya Valmik Mazdoor Morcha', 'Rajasthan Vikas Party', 'Rajasthan Veer Sena', 'Akahand Bharat Mahasangh Sarvahara Krantikari Party', 'Rajasthan Samajik Nyaya Manch', 'Federal Congress Of India', 'Bhartiya Vikas Party', 'Akhil Bharatiya Rashtriya Azad Hind Party', 'RJVP', 'DKD', 'IPC', 'RDSD', 'NPSF', 'DND', 'FCI', 'ABCD(A)', 'RVP', 'BVVP', 'nuzp', 'MEDP', 'BhSMP', 'bhpjp', 'BNNP', 'BYS', 'IPGP', 'AKBAP', 'AAP', 'RBD', 'RJNSP', 'ToP', 'Sikkim Congress (R)', 'Sikkim Prajatantra Congress', 'Sikkim Janta Parishad', 'Sikkim Scheduled Castes League', 'Rising Sun Party', 'Denzong Peoples Chogpi', 'Sikkim Democratic Front', 'Sikkim Himali Rajya Parishad', 'SGPP', 'SDF', 'SJEP', 'SKM', 'Gandhi Kamaraj National Congress', 'Gandhi Kamraj National Congress', 'Ambedkar Kranti Dal', 'Tamil Nadu Congress (K)', 'All India Anna Dravida Munnetra Kazhagam(Janaki Ramachandran', 'All India Anna Dravida Munnetra Kazhagam(Jayalalita Group)', 'Indian Congress(Jagjiwan Ram Bhalla Group)', 'India Farmers And Tailers Party', 'Tamil Nadu Congress(K)', 'Tharasu Makkal Mandram', 'Pattali Makkal Katchi', \"Mahabharath People'S Party\", 'Ambedkar Makkal Iyakkam', 'Tamil Nadu State Indian Union Muslim League', 'M.G.R. Munnetra Kazhagam', 'Tamilar Kazhagam', 'Thayaka Marumalarchi Kazhagam', 'All India Justice Party', 'Tamilar Desiya Iyyakkam', \"Indian Farmers And Toiler'S Party\", 'Gramma Munnetra Kazhagam', 'Ulaga Makkal Nala Mahizi Sinthannyalar Kazhagam', 'Pondichery Mannila Makkal Munnani', 'Marumalarchi Dravida Munnetra Kazhagam', 'Republican Party Of India (Sivaraj)', 'Tamil Maanila Congress (Moopanar)', 'Mahabharath Mahajan Sabha', 'Marxist Engelist Leninist Proletariat Health Commune', 'Anaithinthiya Thamizhaga Munnetra Kazhag', 'Tamil Nadu Hindu Vellalar Youth Kazhagam', 'Puratchi Bharatham', 'Ambedkar Puratchikara Makkal Katchi', 'Thaayaga Makkal Katchi', \"Tamil Nadu People'S Party\", \"Makkal Nalurimaik Kazhagam (People'S Liberal Party)\", 'Nesavaalar Munnetrak Kattchi', 'M.G.R. Kazhagam', 'Kanchee Aringer Anna Dravida Makkal Kazhagam', 'Puthiya Needhi Katchi', 'Makkal Tamil Desam', 'Uzhaippalar Katchi', 'Tamil Desiyak Katchi', 'Puthiya Tamilagam', 'Democratic Forward Bloc', 'Congunadu Makkal Katchi', 'Anaithinthiya Thamizhaga Munnetra Kazhagam', 'Thamilar Bhoomi', 'Grama Munnetra Kazhagam', 'M.G.R.Anna D.M.Kazhagam', 'Desiya Murpokku Dravida Kazhagam', 'Jebamani Janata', 'Tamil Nadu Jananayaka Congress', 'United Communist Party of India', 'Vivasayi Anbhu Katchi', 'Viduthalai Chiruthaigal Katch', 'Akila India Vallalar Peravai', 'Bharathiya Dravida Makkal Katchi', 'Maharashtrawadi Gomantak', 'Sakhthi Baratha Desam', 'Tamil Nadu Makkal Congress', 'Indians Victory Party', 'MMKA', 'MSK', 'MAMAK', 'YSP', 'JJ', 'APM', 'MGRTK', 'VCK', 'AIPPMR', 'AIJMK', 'ADSMK', 'UMK', 'UCPI', 'KNMK', 'ATMK', 'TMMK', 'PT', 'LCOP', 'INPT', 'PDS', 'IPFT', 'Uttar Pradesh Kishan Mazdoor Party', 'Muslim Majlis', 'Uttarkhand Kranti Dal', 'Uttar Pradesh Republican Party', 'Akhil Bharatiya Revolutionary Samaj Dal', 'Akhil Bharatiya Hindustani Krantikari Samajwadi Party', 'Quami Morcha', 'Socialist Democratic Party', 'Indian Congress (J)', 'National Congederation', 'Kisan Mazdoor Party', 'Bharatiya Krantikari Swatantra Jan Parishad', 'Akhil Bharatiya Hindy Shskti Dal', 'Uttrakhand Kranti Dal', 'Indian Congress-Socialist (Sarat Chandra Sinha)', 'Akhila Bhartiya Hindu Mahasabha', 'Akhil Bharatiya Hindu Shakti Dal', 'Bhartiya Republican Paksha', 'Akhil Bhartiya Jagrook Nagrik Dal', 'Akhil Bhartiya Jana Sangh', 'Akhil Bharatiya Shivsena - Rashtrawadi', 'Akhil Bhartiya Ramrajya Parishad (Vasudev Shastri Atul)', 'All India Majlist-E-Ittechadul Muslimeen', 'Jan Parishad', 'Adarsh Lok Dal', 'Akhil Bharitya Mahila Dal', 'National Republican Paksha', 'All India Kisan Majdoor Sabha', 'Bhartiya Berozgar Mazdoor Kisan Dal', 'Samajwadi Party (M)', 'Akhil Bhartiya Berozgar Party', 'Akhil Bhartiya Gram Parishad', 'Uttar Pradesh Vikas Party', 'Rashtriya Vypar Dal', 'Akhil Bhartiya Janhit Jagrit Party', 'Jan Swarajya Party', 'Akhil Bhartia Jagrook Nagrik Dal', 'Bharat Ka Samyawadi Dal (Marxwadi-Leninwadi)', 'Rashtriya Alpsankhyak Dalit Party', 'Arya Dal Uttar Pradesh', 'Krantikari Samajwadi Party Lohia', 'Bharatiya Rashtriya Ekta Dal', 'Bharatiya Rashtriya Morcha', 'Bhartiya Jantantrik Parishad', 'Bhartiya Ekta Party', 'Janta Kranti Congress', 'Akhil Bharatiya Ram Rajya Parishad (Vashdev Shastri)', 'United Republican Party', 'Akhil Bharatiya Loktantra Party', 'All India Dalit Muslim Minorities Suraksha Maha Sangh', 'Bharatiya Samaj Sangathan Morcha', 'Akhila Bharatiya Shivsena Rashtrawadi', 'Bahujan Loktantrik Party', 'Akhil Bharatiya Berozgaar Party', 'Indian Bahujan Samajwadi Party', 'Indian Secular Congress', 'Akhil Bhartiya Janata Vikas Party', 'Bahujan Samaj Party (Raj Bahadur)', 'Kisan Vyawasayee Mazdoor Party', 'Pragati Sheel Party', \"Rashtriya Samajwadi Party 'Pragatisheel'\", 'Pragtisheel Manav Samaj Party', 'Janata Kranti Congress', 'Bharatiya Kisan Parivartan Party', 'Jan Satta Party', 'Nav Bharat Nirman Party', 'New India National Movement', 'Bhartiya Vikas  Party', 'Hindustan Samajwadi Prajatantar Sena (Bharat)', 'Social Justice Party', 'Momin Conference', 'Ekta Kranti Dal U.P.', 'Manuvadi Party', 'All India Muslim Forum', 'Tarai Kranti Dal', 'Kranti Dal', 'Kisan Naujawan Party', 'Bharatiya Samaj Dal', 'Akhil Bhartiya Berozgaar Party', 'Netaji Subhash Party', 'Purvanchal Vikas Party', 'Gandhiwadi Rashtriya Congress', 'Matra Bhoomi Vikas Party', 'Trilok Shakti Congress Bharat', 'Bhartiya Mahashakti Morcha', 'Desh Bachao Jan Morcha', 'Bharatiya Jantantrik Parishad', 'Labour Party Of India (V.V.Prasad)', 'Bharatiya Janvadi Party', 'Rashtriya Dehat Morcha Party', 'Kisan Vikas Party', 'Indian Ekta Party', 'National Lokhind Party', 'Uttar Pradesh United Democratic Front', 'Pichhra Samaj Party', 'Awami Socialist Party of India', 'Bahujan Kisan Dal', 'Vanchit Jamat Party', 'Bharatiya Sarvodaya Kranti Party', 'Forward Bloc (Socialist)', 'United Democratic Party', 'Ittehad-E-Millait Council', 'Parcham Party of India', 'Labour Party of India (V.V. Prasad)', 'Akhil Bharatiya Rajarya Sabha', 'Bharatiya Nagrik Party', 'Rashtravadi Communist Party', 'Loktrantrik Janata Front', 'Inqalab Party of India', 'Bam Party', 'Rashtrawadi Samaj Party', 'Vikas Party', 'Bharatiya Grameen Dal', 'Jharkhand Vikas Dal', 'Bahujan Uday Manch', 'Bharat Punarnirman Dal', 'Peoples Democratic Forum', 'Muslim Majlis Uttar Pradesh', 'Bharatiya Eklavya Party', 'Apna Hindu Ram Bhakat Party', 'Bharatiya Jan Berojgar Chhatra Dal', 'Akhil Bhartiya Janata Sahara Party', 'Akhil Bhartiya Loktantrik Congress', 'Rashtriya Jan Samanatavadi (Ambedkar)', 'Moderate Party', 'The Humanist Party of India', 'Rashtriya Samajwadi Apna Dal', 'Kamgar Samaj Dal', 'Jai Samaj Bharatiya Samaj Party', 'Prajatantrik Lok Ekta Dal', 'Islam Party Hind', 'Dharam Nirpeksh Dal', 'Bharatiya Sarvkalayan Kranti Dal', 'Sarva Samaj Vikas Party', 'Brij Kranti Dal', 'Sanyukt Samajwadi Dal', 'Bharatiya Satyarth Sangathan', 'Rashtriya Janadhikar Party', 'RLM', 'RJSWP', 'JaKP', 'RLNP', 'RMD', 'BhVSP', 'AIRSP', 'JLKP', 'NNP', 'JSP', 'RaNP', 'ARVP', 'PHSP', 'UKDP', 'KSJP', 'PBSD', 'JaSD', 'IEMC', 'SSAD', 'KiS', 'IOP', 'NBEP', 'BJVP', 'BMKCP', 'RJTP', 'RtrJP', 'PrDP', 'AWD', 'RtJP', 'A S P', 'QED', 'LP(S)', 'SNP', 'BRKD', 'RAJUP', 'BKPP', 'RJPK', 'MADP', 'RBP', 'RSUPRP', 'NAP', 'KrSaP', 'BKrD', 'NP', 'BSRD', 'GMM', 'VP', 'NSCBRP', 'BSKD', 'ABDBM', 'PaPOI', 'BKD', 'RCP', 'MwSP', 'ABAS', 'BKRP', 'AlHP', 'KiRP', 'SWPI', 'BhJaSaP', 'RaIP', 'BRABSVP', 'MBCOI', 'NJC', 'HD', 'BPNP', 'BMSKM', 'VoP', 'KMBS', 'JaRaP', 'BRM', 'RWSP', 'ABRS', 'UPRP', 'BHAPP', 'BMM', 'DBJ', 'JaBhP', 'MeyP', 'JaVM', 'GSPS', 'SHSP', 'NDPF', 'AMP', 'SPYSCB', 'BEP', 'BJBCD', 'EKSP', 'JKiP', 'JD', 'MMUP', 'SWD', 'BUM', 'SSCP', 'ABLTC', 'PRBD', 'BhSaPa', 'MOP', 'BJS', 'APVM', 'MOSP', 'RSVC', 'BhRapa', 'BeCP', 'MSP', 'BSD', 'BHNKP', 'SaPP', 'PSS', 'RaAD', 'SM', 'DSP', 'SwrJP', 'GASP', 'BCB', 'UKKD', 'VVS', 'GDP', 'RJSD', 'USP', 'BBMKD', 'UtPP', 'UtRM', 'UPP', 'UJP', 'MKD', 'SaSP', 'RJKP', 'Bharter Biplabi Communist Party', 'Marxist Forward Bloc', 'Akhil Bharatiya Gorkha League (Budhiman Garung)', 'Bidhan Dal', 'Indian National Congress (O) Anti Merger Group', 'Democratic Socialist Party (Prabodh Chandra)', 'Revolutionary Communist Party Of India (Gouranga Sinha)', 'Gorkha National Liberation Front', 'Pachim Banga Rajya Muslim League', \"Indian Democratic People'S Party\", 'Jharkhand Party (Noren)', 'Party For Democratic Socialism', 'Gorakha National Liberation Front', 'West Bengal Socialist Party', 'Paschimbanga Garotantrik Manch', 'Jharkhand Party (Naren)', 'Indian Peoples Forward Block', 'Party for Democratic Socialism', 'Paschim Banga Rajya Muslim League', 'Rashtriya Samadhaan Party', 'Jana Unnayan Mancha', 'Samajtantric Party of India', 'PDCI', 'ABGL', 'GNLF', 'GOJAM', 'KPP', 'PBRML', 'IUC', 'NSBP', 'TRMRPPI', 'RJNP', 'STPI', 'DSP(P)', 'JHAP']\n"
     ]
    }
   ],
   "source": [
    "x= list(df.Party_Name.unique())\n",
    "print(x)"
   ]
  },
  {
   "cell_type": "code",
   "execution_count": 63,
   "id": "fa3e100d-af34-47ab-b4b8-774c64703bde",
   "metadata": {},
   "outputs": [],
   "source": [
    "df.Party_Name=df.Party_Name.str.upper()"
   ]
  },
  {
   "cell_type": "code",
   "execution_count": 65,
   "id": "117203b5-45d9-4220-84d5-8ad9c5ab0066",
   "metadata": {},
   "outputs": [
    {
     "data": {
      "text/plain": [
       "0                          INDEPENDENT\n",
       "1                          INDEPENDENT\n",
       "2             INDIAN NATIONAL CONGRESS\n",
       "3         INDIAN NATIONAL CONGRESS (I)\n",
       "4                         JANATA PARTY\n",
       "                      ...             \n",
       "327289                             IND\n",
       "327290                             BSP\n",
       "327291                             BJP\n",
       "327292                             CPM\n",
       "327293                            AITC\n",
       "Name: Party_Name, Length: 323764, dtype: object"
      ]
     },
     "execution_count": 65,
     "metadata": {},
     "output_type": "execute_result"
    }
   ],
   "source": [
    "df.Party_Name"
   ]
  },
  {
   "cell_type": "code",
   "execution_count": 69,
   "id": "1ba4a310-8c77-428c-9911-00d8f86b520e",
   "metadata": {},
   "outputs": [
    {
     "data": {
      "text/plain": [
       "0                          INDEPENDENT\n",
       "1                          INDEPENDENT\n",
       "2             INDIAN NATIONAL CONGRESS\n",
       "3         INDIAN NATIONAL CONGRESS (I)\n",
       "4                         JANATA PARTY\n",
       "                      ...             \n",
       "327289                             IND\n",
       "327290            BAHUJAN SAMAAJ PARTY\n",
       "327291            BHARTIYA JANTA PARTY\n",
       "327292                             CPM\n",
       "327293                            AITC\n",
       "Name: Party_Name, Length: 323764, dtype: object"
      ]
     },
     "execution_count": 69,
     "metadata": {},
     "output_type": "execute_result"
    }
   ],
   "source": [
    "def correct_party_name (value):\n",
    "    if value== 'BJP':\n",
    "        return 'BHARTIYA JANTA PARTY'\n",
    "    elif value== 'BSP':\n",
    "        return 'BAHUJAN SAMAAJ PARTY'\n",
    "    elif value== 'INC':\n",
    "        return 'INDIAN NATIONAL CONGRESS'\n",
    "    else: return value\n",
    "\n",
    "df.Party_Name.apply(correct_party_name)"
   ]
  },
  {
   "cell_type": "code",
   "execution_count": 71,
   "id": "a99cf37f-7db0-47a1-8952-cf53acd9af48",
   "metadata": {},
   "outputs": [],
   "source": [
    "df.to_csv(\"Indian_state_level_election_cleaned.csv\")"
   ]
  },
  {
   "cell_type": "code",
   "execution_count": null,
   "id": "b06a29bd-0eb7-4542-8bcc-625a5556d92e",
   "metadata": {},
   "outputs": [],
   "source": []
  }
 ],
 "metadata": {
  "kernelspec": {
   "display_name": "Python [conda env:base] *",
   "language": "python",
   "name": "conda-base-py"
  },
  "language_info": {
   "codemirror_mode": {
    "name": "ipython",
    "version": 3
   },
   "file_extension": ".py",
   "mimetype": "text/x-python",
   "name": "python",
   "nbconvert_exporter": "python",
   "pygments_lexer": "ipython3",
   "version": "3.12.7"
  }
 },
 "nbformat": 4,
 "nbformat_minor": 5
}
